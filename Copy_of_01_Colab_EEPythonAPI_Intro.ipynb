{
  "nbformat": 4,
  "nbformat_minor": 0,
  "metadata": {
    "colab": {
      "name": "Copy of 01-Colab_EEPythonAPI-Intro.ipynb",
      "provenance": [],
      "collapsed_sections": [],
      "include_colab_link": true
    },
    "kernelspec": {
      "name": "python3",
      "display_name": "Python 3"
    },
    "accelerator": "GPU"
  },
  "cells": [
    {
      "cell_type": "markdown",
      "metadata": {
        "id": "view-in-github",
        "colab_type": "text"
      },
      "source": [
        "<a href=\"https://colab.research.google.com/github/MVanDenburg92/EarthEngine/blob/master/Copy_of_01_Colab_EEPythonAPI_Intro.ipynb\" target=\"_parent\"><img src=\"https://colab.research.google.com/assets/colab-badge.svg\" alt=\"Open In Colab\"/></a>"
      ]
    },
    {
      "cell_type": "markdown",
      "metadata": {
        "id": "fqrwol8qSN0D",
        "colab_type": "text"
      },
      "source": [
        "<p><img alt=\"Colaboratory logo\" height=\"45px\" src=\"/img/colab_favicon.ico\" align=\"left\" hspace=\"10px\" vspace=\"0px\"></p>\n",
        "\n",
        "<h1> Google Colaboratory |  Earth Engine Python API </h1>\n",
        "\n",
        "Colaboratory is a free Jupyter notebook environment that requires no setup and runs entirely in the cloud.\n",
        "\n",
        "----"
      ]
    },
    {
      "cell_type": "markdown",
      "metadata": {
        "id": "xTcdhnWLUQLk",
        "colab_type": "text"
      },
      "source": [
        "## Cells\n",
        "A notebook is a list of cells. Cells contain either explanatory text or executable code and its output."
      ]
    },
    {
      "cell_type": "markdown",
      "metadata": {
        "id": "XsxmM_DiWFCi",
        "colab_type": "text"
      },
      "source": [
        "#### This is text cell. \n",
        "> Text cells support Markdown Language\n"
      ]
    },
    {
      "cell_type": "code",
      "metadata": {
        "id": "t707b8SoRpoU",
        "colab_type": "code",
        "outputId": "82c200fa-3c93-485c-f5a5-55389ee06bb9",
        "colab": {
          "base_uri": "https://localhost:8080/",
          "height": 34
        }
      },
      "source": [
        "# This is a code cell \n",
        "hello_world = 'Hello World'\n",
        "print(hello_world)"
      ],
      "execution_count": 0,
      "outputs": [
        {
          "output_type": "stream",
          "text": [
            "Hello World\n"
          ],
          "name": "stdout"
        }
      ]
    },
    {
      "cell_type": "markdown",
      "metadata": {
        "id": "pCu1Kb-fnW8a",
        "colab_type": "text"
      },
      "source": [
        "-----\n",
        "# Kernels \n",
        "Every notebook runs on a kernel. When you run a code cell, that code is executed within the kernel and any output is returned back to the cell to be displayed. \n",
        "\n",
        "Colab supports Python 2.7 and Python 3.6."
      ]
    },
    {
      "cell_type": "code",
      "metadata": {
        "id": "KJS052gdkzj2",
        "colab_type": "code",
        "cellView": "code",
        "colab": {}
      },
      "source": [
        "# Declare variable hello_world\n",
        "hello_world = 'Hello World'"
      ],
      "execution_count": 0,
      "outputs": []
    },
    {
      "cell_type": "code",
      "metadata": {
        "id": "zlhABck2k2gp",
        "colab_type": "code",
        "outputId": "d826cac3-eb96-40ae-f1fa-689957a99805",
        "colab": {
          "base_uri": "https://localhost:8080/",
          "height": 34
        }
      },
      "source": [
        "# Print variable hello_world\n",
        "print(hello_world)"
      ],
      "execution_count": 0,
      "outputs": [
        {
          "output_type": "stream",
          "text": [
            "Hello World\n"
          ],
          "name": "stdout"
        }
      ]
    },
    {
      "cell_type": "markdown",
      "metadata": {
        "id": "M4ob8Kw4oU8o",
        "colab_type": "text"
      },
      "source": [
        "\n",
        "\n",
        "---\n",
        "\n",
        "\n",
        "# Saving Notebooks\n",
        "Notebooks are saved in Google Drive with an .ipynb extension. \n",
        "\n",
        "## GitHub\n",
        "*Saving a Colab notebook to GitHub requires giving Colab permission to push the commit to your repository.*\n",
        "\n",
        "\n",
        "To save your notebook to GitHub:\n",
        "1.   Choose File→Save a copy to GitHub.  \n",
        "2.   Select Repository. Your repository must be initialized with a README.md file or have an existing branch to push to.\n",
        "3.   Provide file name under file path\n",
        "4.   Hit OK\n",
        "\n",
        "\n",
        "\n",
        "---\n",
        "\n",
        "\n"
      ]
    },
    {
      "cell_type": "markdown",
      "metadata": {
        "id": "yIpba8Eu1oUS",
        "colab_type": "text"
      },
      "source": [
        "# HTML\n",
        "Colab supports HTML\n",
        "\n",
        "Adding '%%html' at the beginning of a code cell reads the cell as HTML instead of executing it as python code\n",
        "\n"
      ]
    },
    {
      "cell_type": "code",
      "metadata": {
        "cellView": "both",
        "colab_type": "code",
        "id": "odfM-_GxWbCy",
        "outputId": "63cfef50-0b6c-40f7-b871-cd9925513a6d",
        "colab": {
          "base_uri": "https://localhost:8080/",
          "height": 34
        }
      },
      "source": [
        "%%html\n",
        "<text style='color: Red;'><b>HTML Text!</b></text>"
      ],
      "execution_count": 0,
      "outputs": [
        {
          "output_type": "display_data",
          "data": {
            "text/html": [
              "<text style='color: Red;'><b>HTML Text!</b></text>"
            ],
            "text/plain": [
              "<IPython.core.display.HTML object>"
            ]
          },
          "metadata": {
            "tags": []
          }
        }
      ]
    },
    {
      "cell_type": "code",
      "metadata": {
        "id": "4_1Ynhbe36br",
        "colab_type": "code",
        "outputId": "ddf4f5b2-38e1-4b46-f53a-57a16f8c1587",
        "colab": {
          "base_uri": "https://localhost:8080/",
          "height": 129
        }
      },
      "source": [
        "# This results in an error in python\n",
        "<text style='color: Red;'><b>HTML Text!</b></text>"
      ],
      "execution_count": 0,
      "outputs": [
        {
          "output_type": "error",
          "ename": "SyntaxError",
          "evalue": "ignored",
          "traceback": [
            "\u001b[0;36m  File \u001b[0;32m\"<ipython-input-5-87e8c412a493>\"\u001b[0;36m, line \u001b[0;32m1\u001b[0m\n\u001b[0;31m    <text style='color: Red;'><b>HTML Text!</b></text>\u001b[0m\n\u001b[0m    ^\u001b[0m\n\u001b[0;31mSyntaxError\u001b[0m\u001b[0;31m:\u001b[0m invalid syntax\n"
          ]
        }
      ]
    },
    {
      "cell_type": "markdown",
      "metadata": {
        "id": "USt69W1C39BJ",
        "colab_type": "text"
      },
      "source": [
        "\n",
        "\n",
        "---\n",
        "\n",
        "\n",
        "# Stack Overflow\n",
        "If your code results in an error, Colab provides an quick way to search errors on StackOverflow.com through the Google search engine."
      ]
    },
    {
      "cell_type": "code",
      "metadata": {
        "id": "wsYMjbwo4QuZ",
        "colab_type": "code",
        "outputId": "eee5dd1f-93b3-4afc-ded5-2fd9788412bf",
        "colab": {
          "base_uri": "https://localhost:8080/",
          "height": 163
        }
      },
      "source": [
        "print(hello_world + 1)"
      ],
      "execution_count": 0,
      "outputs": [
        {
          "output_type": "error",
          "ename": "TypeError",
          "evalue": "ignored",
          "traceback": [
            "\u001b[0;31m---------------------------------------------------------------------------\u001b[0m",
            "\u001b[0;31mTypeError\u001b[0m                                 Traceback (most recent call last)",
            "\u001b[0;32m<ipython-input-6-0e4631a6dbd3>\u001b[0m in \u001b[0;36m<module>\u001b[0;34m()\u001b[0m\n\u001b[0;32m----> 1\u001b[0;31m \u001b[0mprint\u001b[0m\u001b[0;34m(\u001b[0m\u001b[0mhello_world\u001b[0m \u001b[0;34m+\u001b[0m \u001b[0;36m1\u001b[0m\u001b[0;34m)\u001b[0m\u001b[0;34m\u001b[0m\u001b[0;34m\u001b[0m\u001b[0m\n\u001b[0m",
            "\u001b[0;31mTypeError\u001b[0m: must be str, not int"
          ]
        }
      ]
    },
    {
      "cell_type": "markdown",
      "metadata": {
        "id": "FRMYUhJw7ZJ_",
        "colab_type": "text"
      },
      "source": [
        "<br>\n",
        "<br>\n",
        "<br>\n",
        "\n",
        "\n",
        "---\n",
        "# Google Earth Engine: Python API\n",
        "The Earth Engine Python API facilitates interacting with Earth Engine servers using the Python programming language.\n",
        "\n",
        "<br>\n",
        "\n",
        "## Installing a Library\n",
        "GEE's Python API is accessed through the **earthengine-api** library. \n",
        "<br>\n",
        "Python libraries can be easily downloaded in colab using **pip**, an python package installer"
      ]
    },
    {
      "cell_type": "code",
      "metadata": {
        "id": "-52qR7Cr7vxn",
        "colab_type": "code",
        "outputId": "a82386ea-c5a9-43c3-dd97-7d86efab4a18",
        "colab": {
          "base_uri": "https://localhost:8080/",
          "height": 462
        }
      },
      "source": [
        "# Download library using pip\n",
        "!pip install earthengine-api"
      ],
      "execution_count": 0,
      "outputs": [
        {
          "output_type": "stream",
          "text": [
            "Requirement already satisfied: earthengine-api in /usr/local/lib/python3.6/dist-packages (0.1.206)\n",
            "Requirement already satisfied: google-cloud-storage in /usr/local/lib/python3.6/dist-packages (from earthengine-api) (1.16.2)\n",
            "Requirement already satisfied: google-api-python-client in /usr/local/lib/python3.6/dist-packages (from earthengine-api) (1.7.11)\n",
            "Requirement already satisfied: google-auth-httplib2>=0.0.3 in /usr/local/lib/python3.6/dist-packages (from earthengine-api) (0.0.3)\n",
            "Requirement already satisfied: google-auth>=1.4.1 in /usr/local/lib/python3.6/dist-packages (from earthengine-api) (1.4.2)\n",
            "Requirement already satisfied: six in /usr/local/lib/python3.6/dist-packages (from earthengine-api) (1.12.0)\n",
            "Requirement already satisfied: httplib2<1dev,>=0.9.2 in /usr/local/lib/python3.6/dist-packages (from earthengine-api) (0.11.3)\n",
            "Requirement already satisfied: future in /usr/local/lib/python3.6/dist-packages (from earthengine-api) (0.16.0)\n",
            "Requirement already satisfied: google-resumable-media<0.5.0dev,>=0.3.1 in /usr/local/lib/python3.6/dist-packages (from google-cloud-storage->earthengine-api) (0.4.1)\n",
            "Requirement already satisfied: google-cloud-core<2.0dev,>=1.0.0 in /usr/local/lib/python3.6/dist-packages (from google-cloud-storage->earthengine-api) (1.0.3)\n",
            "Requirement already satisfied: uritemplate<4dev,>=3.0.0 in /usr/local/lib/python3.6/dist-packages (from google-api-python-client->earthengine-api) (3.0.0)\n",
            "Requirement already satisfied: rsa>=3.1.4 in /usr/local/lib/python3.6/dist-packages (from google-auth>=1.4.1->earthengine-api) (4.0)\n",
            "Requirement already satisfied: pyasn1-modules>=0.2.1 in /usr/local/lib/python3.6/dist-packages (from google-auth>=1.4.1->earthengine-api) (0.2.7)\n",
            "Requirement already satisfied: cachetools>=2.0.0 in /usr/local/lib/python3.6/dist-packages (from google-auth>=1.4.1->earthengine-api) (3.1.1)\n",
            "Requirement already satisfied: google-api-core<2.0.0dev,>=1.14.0 in /usr/local/lib/python3.6/dist-packages (from google-cloud-core<2.0dev,>=1.0.0->google-cloud-storage->earthengine-api) (1.14.3)\n",
            "Requirement already satisfied: pyasn1>=0.1.3 in /usr/local/lib/python3.6/dist-packages (from rsa>=3.1.4->google-auth>=1.4.1->earthengine-api) (0.4.7)\n",
            "Requirement already satisfied: setuptools>=34.0.0 in /usr/local/lib/python3.6/dist-packages (from google-api-core<2.0.0dev,>=1.14.0->google-cloud-core<2.0dev,>=1.0.0->google-cloud-storage->earthengine-api) (41.6.0)\n",
            "Requirement already satisfied: requests<3.0.0dev,>=2.18.0 in /usr/local/lib/python3.6/dist-packages (from google-api-core<2.0.0dev,>=1.14.0->google-cloud-core<2.0dev,>=1.0.0->google-cloud-storage->earthengine-api) (2.21.0)\n",
            "Requirement already satisfied: pytz in /usr/local/lib/python3.6/dist-packages (from google-api-core<2.0.0dev,>=1.14.0->google-cloud-core<2.0dev,>=1.0.0->google-cloud-storage->earthengine-api) (2018.9)\n",
            "Requirement already satisfied: protobuf>=3.4.0 in /usr/local/lib/python3.6/dist-packages (from google-api-core<2.0.0dev,>=1.14.0->google-cloud-core<2.0dev,>=1.0.0->google-cloud-storage->earthengine-api) (3.10.0)\n",
            "Requirement already satisfied: googleapis-common-protos<2.0dev,>=1.6.0 in /usr/local/lib/python3.6/dist-packages (from google-api-core<2.0.0dev,>=1.14.0->google-cloud-core<2.0dev,>=1.0.0->google-cloud-storage->earthengine-api) (1.6.0)\n",
            "Requirement already satisfied: idna<2.9,>=2.5 in /usr/local/lib/python3.6/dist-packages (from requests<3.0.0dev,>=2.18.0->google-api-core<2.0.0dev,>=1.14.0->google-cloud-core<2.0dev,>=1.0.0->google-cloud-storage->earthengine-api) (2.8)\n",
            "Requirement already satisfied: chardet<3.1.0,>=3.0.2 in /usr/local/lib/python3.6/dist-packages (from requests<3.0.0dev,>=2.18.0->google-api-core<2.0.0dev,>=1.14.0->google-cloud-core<2.0dev,>=1.0.0->google-cloud-storage->earthengine-api) (3.0.4)\n",
            "Requirement already satisfied: urllib3<1.25,>=1.21.1 in /usr/local/lib/python3.6/dist-packages (from requests<3.0.0dev,>=2.18.0->google-api-core<2.0.0dev,>=1.14.0->google-cloud-core<2.0dev,>=1.0.0->google-cloud-storage->earthengine-api) (1.24.3)\n",
            "Requirement already satisfied: certifi>=2017.4.17 in /usr/local/lib/python3.6/dist-packages (from requests<3.0.0dev,>=2.18.0->google-api-core<2.0.0dev,>=1.14.0->google-cloud-core<2.0dev,>=1.0.0->google-cloud-storage->earthengine-api) (2019.9.11)\n"
          ],
          "name": "stdout"
        }
      ]
    },
    {
      "cell_type": "code",
      "metadata": {
        "id": "3zSi0QaJ9E94",
        "colab_type": "code",
        "colab": {}
      },
      "source": [
        "# Import the earthengine-api library\n",
        "# The Python API package is called ee- must be imported into every new Python session and script.\n",
        "import ee"
      ],
      "execution_count": 0,
      "outputs": []
    },
    {
      "cell_type": "markdown",
      "metadata": {
        "id": "o5hEDpk1-MTu",
        "colab_type": "text"
      },
      "source": [
        "## Authentication\n",
        "Authenticating is necessary each time you begin working the GEE API in a Colab notebook.\n",
        "\n",
        "1.   Execute the code in the cell below and open the outputted URL\n",
        "2.   Choose your account with access to Google Earth Engine \n",
        "3.   Allow the Python Authenticator to access your account\n",
        "4.   Copy the code and enter it as the verification code below\n",
        "5.   Hit Enter\n",
        "6.   You should see 'Successfully saved authorization token.' if the authentication was successful\n",
        "\n",
        "\n"
      ]
    },
    {
      "cell_type": "code",
      "metadata": {
        "id": "DhrppTgN9kSn",
        "colab_type": "code",
        "outputId": "00533074-3fba-4291-d7df-585881cfa385",
        "colab": {
          "base_uri": "https://localhost:8080/",
          "height": 173
        }
      },
      "source": [
        "ee.Authenticate()"
      ],
      "execution_count": 15,
      "outputs": [
        {
          "output_type": "stream",
          "text": [
            "To authorize access needed by Earth Engine, open the following URL in a web browser and follow the instructions. If the web browser does not start automatically, please manually browse the URL below.\n",
            "\n",
            "    https://accounts.google.com/o/oauth2/auth?client_id=517222506229-vsmmajv00ul0bs7p89v5m89qs8eb9359.apps.googleusercontent.com&scope=https%3A%2F%2Fwww.googleapis.com%2Fauth%2Fearthengine+https%3A%2F%2Fwww.googleapis.com%2Fauth%2Fdevstorage.full_control&redirect_uri=urn%3Aietf%3Awg%3Aoauth%3A2.0%3Aoob&response_type=code\n",
            "\n",
            "The authorization workflow will generate a code, which you should paste in the box below. \n",
            "Enter verification code: 4/tgHrqyL3A1sWZvsagijl_iVzuo8AcEedyYHea5QXD5Iss6YD7N1DAE0\n",
            "\n",
            "Successfully saved authorization token.\n"
          ],
          "name": "stdout"
        }
      ]
    },
    {
      "cell_type": "code",
      "metadata": {
        "id": "UP_j8jQY99iv",
        "colab_type": "code",
        "colab": {}
      },
      "source": [
        "# Initialize the library\n",
        "# The library must be initialized for every new session and script\n",
        "ee.Initialize()"
      ],
      "execution_count": 0,
      "outputs": []
    },
    {
      "cell_type": "markdown",
      "metadata": {
        "id": "ZTCXF1jxA7C-",
        "colab_type": "text"
      },
      "source": [
        "## Test the API\n",
        "\n",
        "The code below prints the elevation of Mount Everest using the [Shuttle Radar Topography Mission (SRTM) Digital Elevation](https://developers.google.com/earth-engine/datasets/catalog/USGS_SRTMGL1_003) data. \n",
        "\n",
        "According to the data catalog shows that the image was collected for a 10-day time period from *Feb 11th to Feb 22nd 2000*.\n",
        "\n",
        "Some additional information can be found under the Bands tab like the data has **one band called elevation** with a **resolution of 30m**.\n",
        "\n"
      ]
    },
    {
      "cell_type": "code",
      "metadata": {
        "id": "H890sJciAEE3",
        "colab_type": "code",
        "colab": {
          "base_uri": "https://localhost:8080/",
          "height": 34
        },
        "outputId": "5edf2981-c27b-4b2a-ecde-e184b71492bb"
      },
      "source": [
        "# Specify path to image from the Earth Engine Data Catalog\n",
        "# This can be found under Earth Engine Snippet on the Data Catalog Page\n",
        "dem = ee.Image('USGS/SRTMGL1_003')\n",
        "\n",
        "# Generate a vector point using the ee.Geometry.Point Function \n",
        "# Pass longitude(x), latitude(y) values in a list as parameters\n",
        "# It is important to retain the order: x,y\n",
        "xy = ee.Geometry.Point([-71.815830, 42.250420])\n",
        "\n",
        "# Sample the pixels of image at the specified location\n",
        "# Select the first sample\n",
        "# The getInfo() function extracts the elevation information\n",
        "elev = dem.sample(xy).first().get('elevation').getInfo()\n",
        "\n",
        "# Print elevation information\n",
        "print('Clark University Elevation (m):', elev)"
      ],
      "execution_count": 17,
      "outputs": [
        {
          "output_type": "stream",
          "text": [
            "Clark University Elevation (m): 154\n"
          ],
          "name": "stdout"
        }
      ]
    },
    {
      "cell_type": "markdown",
      "metadata": {
        "id": "NUDMOLm4GBT0",
        "colab_type": "text"
      },
      "source": [
        "# Exercise 1\n",
        "Edit the code below to print the elevation information for **Mount Everest**\n",
        "\n",
        "\n",
        "[Use this website to get the lat/lon information](https://www.latlong.net/convert-address-to-lat-long.html )"
      ]
    },
    {
      "cell_type": "code",
      "metadata": {
        "id": "a8ZLKk6kBxmm",
        "colab_type": "code",
        "colab": {
          "base_uri": "https://localhost:8080/",
          "height": 34
        },
        "outputId": "fe76a615-57a1-45aa-de72-cd4b9f892e52"
      },
      "source": [
        "# Specify path to image from the Earth Engine Data Catalog\n",
        "dem = ee.Image('USGS/SRTMGL1_003')\n",
        "\n",
        "# Pass longitude(x), latitude(y) values in a list as parameters\n",
        "# Lat/Lon for Clark University specified\n",
        "xy = ee.Geometry.Point([86.924973, 27.988121])\n",
        "\n",
        "# Sample the pixels of image at the specified location\n",
        "# Select the first sample\n",
        "# The getInfo() function extracts the elevation information\n",
        "elev = dem.sample(xy).first().get('elevation').getInfo()\n",
        "\n",
        "# Print elevation information\n",
        "print('Mount Everest Elevation (m):', elev)"
      ],
      "execution_count": 18,
      "outputs": [
        {
          "output_type": "stream",
          "text": [
            "Mount Everest Elevation (m): 8729\n"
          ],
          "name": "stdout"
        }
      ]
    },
    {
      "cell_type": "markdown",
      "metadata": {
        "id": "m93WL43lNHOB",
        "colab_type": "text"
      },
      "source": [
        "\n",
        "\n",
        "---\n",
        "\n",
        "# Mapping\n",
        "\n",
        "The **folium** package can be used to display earth engine images on an interactive map"
      ]
    },
    {
      "cell_type": "code",
      "metadata": {
        "id": "2DGwfZl7Nm1h",
        "colab_type": "code",
        "colab": {
          "base_uri": "https://localhost:8080/",
          "height": 204
        },
        "outputId": "83b914e9-4fda-4b48-e168-ffb87fbe4142"
      },
      "source": [
        "# Download the folium library\n",
        "!pip install folium"
      ],
      "execution_count": 19,
      "outputs": [
        {
          "output_type": "stream",
          "text": [
            "Requirement already satisfied: folium in /usr/local/lib/python3.6/dist-packages (0.8.3)\n",
            "Requirement already satisfied: branca>=0.3.0 in /usr/local/lib/python3.6/dist-packages (from folium) (0.3.1)\n",
            "Requirement already satisfied: jinja2 in /usr/local/lib/python3.6/dist-packages (from folium) (2.10.3)\n",
            "Requirement already satisfied: six in /usr/local/lib/python3.6/dist-packages (from folium) (1.12.0)\n",
            "Requirement already satisfied: requests in /usr/local/lib/python3.6/dist-packages (from folium) (2.21.0)\n",
            "Requirement already satisfied: numpy in /usr/local/lib/python3.6/dist-packages (from folium) (1.17.4)\n",
            "Requirement already satisfied: MarkupSafe>=0.23 in /usr/local/lib/python3.6/dist-packages (from jinja2->folium) (1.1.1)\n",
            "Requirement already satisfied: idna<2.9,>=2.5 in /usr/local/lib/python3.6/dist-packages (from requests->folium) (2.8)\n",
            "Requirement already satisfied: chardet<3.1.0,>=3.0.2 in /usr/local/lib/python3.6/dist-packages (from requests->folium) (3.0.4)\n",
            "Requirement already satisfied: certifi>=2017.4.17 in /usr/local/lib/python3.6/dist-packages (from requests->folium) (2019.9.11)\n",
            "Requirement already satisfied: urllib3<1.25,>=1.21.1 in /usr/local/lib/python3.6/dist-packages (from requests->folium) (1.24.3)\n"
          ],
          "name": "stdout"
        }
      ]
    },
    {
      "cell_type": "code",
      "metadata": {
        "id": "FMw4DzXdNsFY",
        "colab_type": "code",
        "colab": {}
      },
      "source": [
        "# Import Library\n",
        "import folium"
      ],
      "execution_count": 0,
      "outputs": []
    },
    {
      "cell_type": "code",
      "metadata": {
        "id": "56MVr5KcQAPZ",
        "colab_type": "code",
        "colab": {}
      },
      "source": [
        "# Define a function to display Earth Engine image tiles to folium map.\n",
        "# The function takes:\n",
        "#   1. Earth Engine Image\n",
        "#   2. Visual parameters as dictionary\n",
        "#   3. A Name as a string\n",
        "\n",
        "def add_ee_layer(self, ee_image_object, vis_params, name):\n",
        "  map_id_dict = ee.Image(ee_image_object).getMapId(vis_params)\n",
        "  folium.raster_layers.TileLayer(\n",
        "    tiles = map_id_dict['tile_fetcher'].url_format,\n",
        "    attr = \"Map Data © Google Earth Engine\",\n",
        "    name = name,\n",
        "    overlay = True,\n",
        "    control = True\n",
        "  ).add_to(self)"
      ],
      "execution_count": 0,
      "outputs": []
    },
    {
      "cell_type": "markdown",
      "metadata": {
        "id": "Z9tBKHITTSHO",
        "colab_type": "text"
      },
      "source": [
        "\n",
        "\n",
        "---\n",
        "\n",
        "\n",
        "<br>\n",
        "\n",
        "\n",
        "\n",
        "# Image Collection\n",
        "An image collection refers to a set of Earth Engine images. For example, the collection of all Landsat 8 images is an ImageCollection. Like the SRTM image, image collections also have an ID.\n",
        "\n",
        "Example: [Landsat 8 Image Collection](https://developers.google.com/earth-engine/datasets/catalog/LANDSAT_LC08_C01_T1_SR)\n",
        "\n",
        "\n",
        "A collection represents every scene collected at every location and time period. It is useful to extract a single image or a subset of images. The way to limit the collection by time or space is by filtering it. "
      ]
    },
    {
      "cell_type": "code",
      "metadata": {
        "id": "T0OYMqnjXR42",
        "colab_type": "code",
        "colab": {}
      },
      "source": [
        "# Location to extract imagery for using geographic coordinates\n",
        "point = ee.Geometry.Point([-71.815830, 42.250420])\n",
        "# Dates\n",
        "startDate = '2016-01-01'\n",
        "endDate = '2017-01-31'\n",
        "\n",
        "# imageCollection path\n",
        "image = ee.ImageCollection(\"LANDSAT/LC08/C01/T1_SR\")\n",
        "\n",
        "# Filter by geom point\n",
        "image = image.filterBounds(point)\n",
        "\n",
        "# Specify time period of interest\n",
        "image = image.filterDate(startDate, endDate)\n",
        "\n",
        "image = image.min()\n",
        "\n",
        "# ----TRUE COLOR COMPOSITE------\n",
        "visParams = {'bands': ['B4', 'B3', 'B2'],\n",
        "                'min': 0,\n",
        "                'max': 3000,\n",
        "                'gamma': 1.4}"
      ],
      "execution_count": 0,
      "outputs": []
    },
    {
      "cell_type": "markdown",
      "metadata": {
        "id": "0uCg0ZcHg3pL",
        "colab_type": "text"
      },
      "source": [
        "Set up map by providing default location, zoom level and size.\n",
        "\n",
        "Add layer to map"
      ]
    },
    {
      "cell_type": "code",
      "metadata": {
        "id": "FithtAOLfuIS",
        "colab_type": "code",
        "colab": {
          "base_uri": "https://localhost:8080/",
          "height": 1000
        },
        "outputId": "179cf5af-a3a4-4a69-870a-2ce8ef21fd19"
      },
      "source": [
        "# Create a folium map object \n",
        "# Folium defaults to openstreetmap basemap if a tile isn't specified\n",
        "# Format for location coordinates: Latitude, Longitude\n",
        "# Height for \n",
        "imageryMap = folium.Map(location=[42.250420, -71.815830], zoom_start=7, height=500)\n",
        "\n",
        "# Create a folium map object with the add_ee_layer\n",
        "folium.Map.add_ee_layer = add_ee_layer\n",
        "\n",
        "# Add the layer to the map using the defined function\n",
        "imageryMap.add_ee_layer(image, visParams, 'True Color Composite')\n",
        "\n",
        "# Add a layer control panel to the map\n",
        "# Allows you to turn layers on and off\n",
        "imageryMap.add_child(folium.LayerControl())\n",
        "\n",
        "# Display the map\n",
        "display(imageryMap)"
      ],
      "execution_count": 28,
      "outputs": [
        {
          "output_type": "display_data",
          "data": {
            "text/html": [
              "<div style=\"width:100%;\"><div style=\"position:relative;width:100%;height:0;padding-bottom:60%;\"><iframe src=\"data:text/html;charset=utf-8;base64,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\" style=\"position:absolute;width:100%;height:100%;left:0;top:0;border:none !important;\" allowfullscreen webkitallowfullscreen mozallowfullscreen></iframe></div></div>"
            ],
            "text/plain": [
              "<folium.folium.Map at 0x7f8d437934e0>"
            ]
          },
          "metadata": {
            "tags": []
          }
        }
      ]
    },
    {
      "cell_type": "markdown",
      "metadata": {
        "id": "-QwueDABhMnw",
        "colab_type": "text"
      },
      "source": [
        "\n",
        "\n",
        "---\n",
        "\n",
        "\n",
        "\n",
        "# Exercise 2: Create a False Color Composite\n",
        "\n",
        "Create a false-color composite for the same geographic area. Use the same min, max and gamma parameters as the true color composite. \n",
        "\n",
        "Edit the code below and update the following:\n",
        "*   startDate = *2017-01-01*\n",
        "*   endDate = *2018-01-31*\n",
        "*   Bands: *B5, B4, B3*\n",
        "\n",
        "\n",
        "\n",
        "(Hint: You are updating 3 lines of code)\n",
        "\n",
        "\n"
      ]
    },
    {
      "cell_type": "code",
      "metadata": {
        "id": "c0KQjosmhSeQ",
        "colab_type": "code",
        "colab": {
          "base_uri": "https://localhost:8080/",
          "height": 1000
        },
        "outputId": "0ae2d50c-d327-45b6-952b-c0a56e3a2264"
      },
      "source": [
        "def add_ee_layer(self, ee_image_object, vis_params, name):\n",
        "  map_id_dict = ee.Image(ee_image_object).getMapId(vis_params)\n",
        "  folium.raster_layers.TileLayer(\n",
        "    tiles = map_id_dict['tile_fetcher'].url_format,\n",
        "    attr = \"Map Data © Google Earth Engine\",\n",
        "    name = name,\n",
        "    overlay = True,\n",
        "    control = True\n",
        "  ).add_to(self)\n",
        "\n",
        "\n",
        "# Location to extract imagery for using geographic coordinates\n",
        "point = ee.Geometry.Point([-71.815830, 42.250420])\n",
        "\n",
        "# Dates\n",
        "startDate = '2017-01-01'\n",
        "endDate = '2018-01-31'\n",
        "\n",
        "# imageCollection path\n",
        "image = ee.ImageCollection(\"LANDSAT/LC08/C01/T1_SR\")\n",
        "\n",
        "# Filter by geom point\n",
        "image = image.filterBounds(point)\n",
        "\n",
        "# Specify time period of interest\n",
        "image = image.filterDate(startDate, endDate)\n",
        "\n",
        "image = image.min()\n",
        "\n",
        "# ----FALSE COLOR COMPOSITE------\n",
        "visParams = {'bands': ['B5', 'B4', 'B3'],\n",
        "                'min': 0,\n",
        "                'max': 3000,\n",
        "                'gamma': 1.4}\n",
        "\n",
        "# Create a folium map object \n",
        "# Folium defaults to openstreetmap basemap if a tile isn't specified\n",
        "# Format for location coordinates: Latitude, Longitude\n",
        "# Height for \n",
        "imageryMap = folium.Map(location=[42.250420, -71.815830], zoom_start=7, height=800)\n",
        "\n",
        "# Create a folium map object with the add_ee_layer\n",
        "folium.Map.add_ee_layer = add_ee_layer\n",
        "\n",
        "# Add the layer to the map using the defined function\n",
        "imageryMap.add_ee_layer(image, visParams, 'True Color Composite')\n",
        "\n",
        "# Add a layer control panel to the map\n",
        "# Allows you to turn layers on and off\n",
        "imageryMap.add_child(folium.LayerControl())\n",
        "\n",
        "# Display the map\n",
        "display(imageryMap)"
      ],
      "execution_count": 32,
      "outputs": [
        {
          "output_type": "display_data",
          "data": {
            "text/html": [
              "<div style=\"width:100%;\"><div style=\"position:relative;width:100%;height:0;padding-bottom:60%;\"><iframe src=\"data:text/html;charset=utf-8;base64,PCFET0NUWVBFIGh0bWw+CjxoZWFkPiAgICAKICAgIDxtZXRhIGh0dHAtZXF1aXY9ImNvbnRlbnQtdHlwZSIgY29udGVudD0idGV4dC9odG1sOyBjaGFyc2V0PVVURi04IiAvPgogICAgPHNjcmlwdD5MX1BSRUZFUl9DQU5WQVM9ZmFsc2U7IExfTk9fVE9VQ0g9ZmFsc2U7IExfRElTQUJMRV8zRD1mYWxzZTs8L3NjcmlwdD4KICAgIDxzY3JpcHQgc3JjPSJodHRwczovL2Nkbi5qc2RlbGl2ci5uZXQvbnBtL2xlYWZsZXRAMS40LjAvZGlzdC9sZWFmbGV0LmpzIj48L3NjcmlwdD4KICAgIDxzY3JpcHQgc3JjPSJodHRwczovL2NvZGUuanF1ZXJ5LmNvbS9qcXVlcnktMS4xMi40Lm1pbi5qcyI+PC9zY3JpcHQ+CiAgICA8c2NyaXB0IHNyYz0iaHR0cHM6Ly9tYXhjZG4uYm9vdHN0cmFwY2RuLmNvbS9ib290c3RyYXAvMy4yLjAvanMvYm9vdHN0cmFwLm1pbi5qcyI+PC9zY3JpcHQ+CiAgICA8c2NyaXB0IHNyYz0iaHR0cHM6Ly9jZG5qcy5jbG91ZGZsYXJlLmNvbS9hamF4L2xpYnMvTGVhZmxldC5hd2Vzb21lLW1hcmtlcnMvMi4wLjIvbGVhZmxldC5hd2Vzb21lLW1hcmtlcnMuanMiPjwvc2NyaXB0PgogICAgPGxpbmsgcmVsPSJzdHlsZXNoZWV0IiBocmVmPSJodHRwczovL2Nkbi5qc2RlbGl2ci5uZXQvbnBtL2xlYWZsZXRAMS40LjAvZGlzdC9sZWFmbGV0LmNzcyIvPgogICAgPGxpbmsgcmVsPSJzdHlsZXNoZWV0IiBocmVmPSJodHRwczovL21heGNkbi5ib290c3RyYXBjZG4uY29tL2Jvb3RzdHJhcC8zLjIuMC9jc3MvYm9vdHN0cmFwLm1pbi5jc3MiLz4KICAgIDxsaW5rIHJlbD0ic3R5bGVzaGVldCIgaHJlZj0iaHR0cHM6Ly9tYXhjZG4uYm9vdHN0cmFwY2RuLmNvbS9ib290c3RyYXAvMy4yLjAvY3NzL2Jvb3RzdHJhcC10aGVtZS5taW4uY3NzIi8+CiAgICA8bGluayByZWw9InN0eWxlc2hlZXQiIGhyZWY9Imh0dHBzOi8vbWF4Y2RuLmJvb3RzdHJhcGNkbi5jb20vZm9udC1hd2Vzb21lLzQuNi4zL2Nzcy9mb250LWF3ZXNvbWUubWluLmNzcyIvPgogICAgPGxpbmsgcmVsPSJzdHlsZXNoZWV0IiBocmVmPSJodHRwczovL2NkbmpzLmNsb3VkZmxhcmUuY29tL2FqYXgvbGlicy9MZWFmbGV0LmF3ZXNvbWUtbWFya2Vycy8yLjAuMi9sZWFmbGV0LmF3ZXNvbWUtbWFya2Vycy5jc3MiLz4KICAgIDxsaW5rIHJlbD0ic3R5bGVzaGVldCIgaHJlZj0iaHR0cHM6Ly9yYXdjZG4uZ2l0aGFjay5jb20vcHl0aG9uLXZpc3VhbGl6YXRpb24vZm9saXVtL21hc3Rlci9mb2xpdW0vdGVtcGxhdGVzL2xlYWZsZXQuYXdlc29tZS5yb3RhdGUuY3NzIi8+CiAgICA8c3R5bGU+aHRtbCwgYm9keSB7d2lkdGg6IDEwMCU7aGVpZ2h0OiAxMDAlO21hcmdpbjogMDtwYWRkaW5nOiAwO308L3N0eWxlPgogICAgPHN0eWxlPiNtYXAge3Bvc2l0aW9uOmFic29sdXRlO3RvcDowO2JvdHRvbTowO3JpZ2h0OjA7bGVmdDowO308L3N0eWxlPgogICAgCiAgICA8bWV0YSBuYW1lPSJ2aWV3cG9ydCIgY29udGVudD0id2lkdGg9ZGV2aWNlLXdpZHRoLAogICAgICAgIGluaXRpYWwtc2NhbGU9MS4wLCBtYXhpbXVtLXNjYWxlPTEuMCwgdXNlci1zY2FsYWJsZT1ubyIgLz4KICAgIDxzdHlsZT4jbWFwXzUxNzgzMThlYWNmZDRjOTFiOTEyOTIxYTJkMTgwY2JjIHsKICAgICAgICBwb3NpdGlvbjogcmVsYXRpdmU7CiAgICAgICAgd2lkdGg6IDEwMC4wJTsKICAgICAgICBoZWlnaHQ6IDgwMC4wcHg7CiAgICAgICAgbGVmdDogMC4wJTsKICAgICAgICB0b3A6IDAuMCU7CiAgICAgICAgfQogICAgPC9zdHlsZT4KPC9oZWFkPgo8Ym9keT4gICAgCiAgICAKICAgIDxkaXYgY2xhc3M9ImZvbGl1bS1tYXAiIGlkPSJtYXBfNTE3ODMxOGVhY2ZkNGM5MWI5MTI5MjFhMmQxODBjYmMiID48L2Rpdj4KPC9ib2R5Pgo8c2NyaXB0PiAgICAKICAgIAogICAgCiAgICAgICAgdmFyIGJvdW5kcyA9IG51bGw7CiAgICAKCiAgICB2YXIgbWFwXzUxNzgzMThlYWNmZDRjOTFiOTEyOTIxYTJkMTgwY2JjID0gTC5tYXAoCiAgICAgICAgJ21hcF81MTc4MzE4ZWFjZmQ0YzkxYjkxMjkyMWEyZDE4MGNiYycsIHsKICAgICAgICBjZW50ZXI6IFs0Mi4yNTA0MiwgLTcxLjgxNTgzXSwKICAgICAgICB6b29tOiA3LAogICAgICAgIG1heEJvdW5kczogYm91bmRzLAogICAgICAgIGxheWVyczogW10sCiAgICAgICAgd29ybGRDb3B5SnVtcDogZmFsc2UsCiAgICAgICAgY3JzOiBMLkNSUy5FUFNHMzg1NywKICAgICAgICB6b29tQ29udHJvbDogdHJ1ZSwKICAgICAgICB9KTsKCgogICAgCiAgICB2YXIgdGlsZV9sYXllcl8wZDMxNDNjYmQzZTk0OTYwOGYxMGE4MjUwYWNmMjc4MSA9IEwudGlsZUxheWVyKAogICAgICAgICdodHRwczovL3tzfS50aWxlLm9wZW5zdHJlZXRtYXAub3JnL3t6fS97eH0ve3l9LnBuZycsCiAgICAgICAgewogICAgICAgICJhdHRyaWJ1dGlvbiI6IG51bGwsCiAgICAgICAgImRldGVjdFJldGluYSI6IGZhbHNlLAogICAgICAgICJtYXhOYXRpdmVab29tIjogMTgsCiAgICAgICAgIm1heFpvb20iOiAxOCwKICAgICAgICAibWluWm9vbSI6IDAsCiAgICAgICAgIm5vV3JhcCI6IGZhbHNlLAogICAgICAgICJvcGFjaXR5IjogMSwKICAgICAgICAic3ViZG9tYWlucyI6ICJhYmMiLAogICAgICAgICJ0bXMiOiBmYWxzZQp9KS5hZGRUbyhtYXBfNTE3ODMxOGVhY2ZkNGM5MWI5MTI5MjFhMmQxODBjYmMpOwogICAgdmFyIHRpbGVfbGF5ZXJfZjJiM2YwYzRkNTc2NDMxN2I1MGRkNTE2ODc2OGNhNzggPSBMLnRpbGVMYXllcigKICAgICAgICAnaHR0cHM6Ly9lYXJ0aGVuZ2luZS5nb29nbGVhcGlzLmNvbS92MWFscGhhL3Byb2plY3RzL2VhcnRoZW5naW5lLWxlZ2FjeS9tYXBzLzgzY2U0NTEyZDhiYmZhMGU3NjU3ZWU3ZjkzZmMxYWU4LTU4ZTQzZDA3NzQzYjczOWQ5MTFkNGZlYjk5YzNhNzAwL3RpbGVzL3t6fS97eH0ve3l9JywKICAgICAgICB7CiAgICAgICAgImF0dHJpYnV0aW9uIjogIk1hcCBEYXRhIFx1MDBhOSBHb29nbGUgRWFydGggRW5naW5lIiwKICAgICAgICAiZGV0ZWN0UmV0aW5hIjogZmFsc2UsCiAgICAgICAgIm1heE5hdGl2ZVpvb20iOiAxOCwKICAgICAgICAibWF4Wm9vbSI6IDE4LAogICAgICAgICJtaW5ab29tIjogMCwKICAgICAgICAibm9XcmFwIjogZmFsc2UsCiAgICAgICAgIm9wYWNpdHkiOiAxLAogICAgICAgICJzdWJkb21haW5zIjogImFiYyIsCiAgICAgICAgInRtcyI6IGZhbHNlCn0pLmFkZFRvKG1hcF81MTc4MzE4ZWFjZmQ0YzkxYjkxMjkyMWEyZDE4MGNiYyk7CiAgICAKICAgICAgICAgICAgdmFyIGxheWVyX2NvbnRyb2xfNGUwNTY5NDNmMWY2NDQ0MzhiZjFkZWY0OGU5MmUyNjkgPSB7CiAgICAgICAgICAgICAgICBiYXNlX2xheWVycyA6IHsgIm9wZW5zdHJlZXRtYXAiIDogdGlsZV9sYXllcl8wZDMxNDNjYmQzZTk0OTYwOGYxMGE4MjUwYWNmMjc4MSwgfSwKICAgICAgICAgICAgICAgIG92ZXJsYXlzIDogeyAiVHJ1ZSBDb2xvciBDb21wb3NpdGUiIDogdGlsZV9sYXllcl9mMmIzZjBjNGQ1NzY0MzE3YjUwZGQ1MTY4NzY4Y2E3OCwgfQogICAgICAgICAgICAgICAgfTsKICAgICAgICAgICAgTC5jb250cm9sLmxheWVycygKICAgICAgICAgICAgICAgIGxheWVyX2NvbnRyb2xfNGUwNTY5NDNmMWY2NDQ0MzhiZjFkZWY0OGU5MmUyNjkuYmFzZV9sYXllcnMsCiAgICAgICAgICAgICAgICBsYXllcl9jb250cm9sXzRlMDU2OTQzZjFmNjQ0NDM4YmYxZGVmNDhlOTJlMjY5Lm92ZXJsYXlzLAogICAgICAgICAgICAgICAge3Bvc2l0aW9uOiAndG9wcmlnaHQnLAogICAgICAgICAgICAgICAgIGNvbGxhcHNlZDogdHJ1ZSwKICAgICAgICAgICAgICAgICBhdXRvWkluZGV4OiB0cnVlCiAgICAgICAgICAgICAgICB9KS5hZGRUbyhtYXBfNTE3ODMxOGVhY2ZkNGM5MWI5MTI5MjFhMmQxODBjYmMpOwogICAgICAgICAgICAKICAgICAgICAKPC9zY3JpcHQ+\" style=\"position:absolute;width:100%;height:100%;left:0;top:0;border:none !important;\" allowfullscreen webkitallowfullscreen mozallowfullscreen></iframe></div></div>"
            ],
            "text/plain": [
              "<folium.folium.Map at 0x7f8d4379a630>"
            ]
          },
          "metadata": {
            "tags": []
          }
        }
      ]
    }
  ]
}